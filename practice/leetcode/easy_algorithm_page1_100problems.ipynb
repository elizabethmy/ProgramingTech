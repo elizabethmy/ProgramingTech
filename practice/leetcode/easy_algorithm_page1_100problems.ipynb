{
 "cells": [
  {
   "cell_type": "code",
   "execution_count": 4,
   "id": "5654a230",
   "metadata": {},
   "outputs": [
    {
     "data": {
      "text/plain": [
       "[0, 1, 2, 4, 5, 3]"
      ]
     },
     "execution_count": 4,
     "metadata": {},
     "output_type": "execute_result"
    }
   ],
   "source": [
    "#04/06/2022 1920. Build Array from Permutation\n",
    "from typing import List\n",
    "def buildArray(nums: List[int]) -> List[int]:\n",
    "        ans = []\n",
    "        ans = [nums[nums[i]] for i in range(len(nums))]\n",
    "        return ans\n",
    "\n",
    "nums = [0,2,1,5,3,4]\n",
    "buildArray(nums)"
   ]
  },
  {
   "cell_type": "code",
   "execution_count": 12,
   "id": "3d868920",
   "metadata": {},
   "outputs": [
    {
     "data": {
      "text/plain": [
       "[1, 3, 2, 1, 1, 3, 2, 1]"
      ]
     },
     "execution_count": 12,
     "metadata": {},
     "output_type": "execute_result"
    }
   ],
   "source": [
    "#04/06/2022 1929. Concatenation of Array\n",
    "from typing import List\n",
    "def getConcatenation(nums: List[int]) -> List[int]:\n",
    "    ans = nums.copy()\n",
    "    n = len(nums)\n",
    "    for i in range(n,n + n):\n",
    "        ans.append(nums[i - n])\n",
    "    \n",
    "    return ans\n",
    "nums = [1,3,2,1]\n",
    "getConcatenation(nums)"
   ]
  },
  {
   "cell_type": "code",
   "execution_count": 16,
   "id": "c873a296",
   "metadata": {},
   "outputs": [
    {
     "data": {
      "text/plain": [
       "[1, 3, 6, 10]"
      ]
     },
     "execution_count": 16,
     "metadata": {},
     "output_type": "execute_result"
    }
   ],
   "source": [
    "#04/06/2022 \n",
    "def runningSum(nums: List[int]) -> List[int]:\n",
    "    ans = []\n",
    "    s = 0\n",
    "    for i in range(len(nums)):\n",
    "        s = s + nums[i]\n",
    "        ans.append(s)\n",
    "    \n",
    "    return ans\n",
    "    \n",
    "nums = [1,2,3,4]\n",
    "runningSum(nums)"
   ]
  },
  {
   "cell_type": "code",
   "execution_count": 2,
   "id": "b1a91fbe",
   "metadata": {},
   "outputs": [
    {
     "ename": "NameError",
     "evalue": "name 'Optional' is not defined",
     "output_type": "error",
     "traceback": [
      "\u001b[1;31m---------------------------------------------------------------------------\u001b[0m",
      "\u001b[1;31mNameError\u001b[0m                                 Traceback (most recent call last)",
      "Input \u001b[1;32mIn [2]\u001b[0m, in \u001b[0;36m<cell line: 2>\u001b[1;34m()\u001b[0m\n\u001b[0;32m      1\u001b[0m \u001b[38;5;66;03m#05/06/2022 2236. Root Equals Sum of Children\u001b[39;00m\n\u001b[1;32m----> 2\u001b[0m \u001b[38;5;28;01mdef\u001b[39;00m \u001b[38;5;21mcheckTree\u001b[39m(root: \u001b[43mOptional\u001b[49m[TreeNode]) \u001b[38;5;241m-\u001b[39m\u001b[38;5;241m>\u001b[39m \u001b[38;5;28mbool\u001b[39m:\n\u001b[0;32m      3\u001b[0m     \u001b[38;5;28;01mif\u001b[39;00m root\u001b[38;5;241m.\u001b[39mleft\u001b[38;5;241m.\u001b[39mval \u001b[38;5;241m+\u001b[39m root\u001b[38;5;241m.\u001b[39mright\u001b[38;5;241m.\u001b[39mval \u001b[38;5;241m==\u001b[39m root\u001b[38;5;241m.\u001b[39mval:\n\u001b[0;32m      4\u001b[0m         \u001b[38;5;28;01mreturn\u001b[39;00m \u001b[38;5;28;01mTrue\u001b[39;00m\n",
      "\u001b[1;31mNameError\u001b[0m: name 'Optional' is not defined"
     ]
    }
   ],
   "source": [
    "#05/06/2022 2236. Root Equals Sum of Children\n",
    "def checkTree(root: Optional[TreeNode]) -> bool:\n",
    "    if root.left.val + root.right.val == root.val:\n",
    "        return True\n",
    "    else:\n",
    "        return False"
   ]
  },
  {
   "cell_type": "code",
   "execution_count": 3,
   "id": "7afae881",
   "metadata": {},
   "outputs": [
    {
     "data": {
      "text/plain": [
       "3"
      ]
     },
     "execution_count": 3,
     "metadata": {},
     "output_type": "execute_result"
    }
   ],
   "source": [
    "#06/06/2022 2011. Final Value of Variable After Performing Operations\n",
    "def finalValueAfterOperations(operations: list) -> int:\n",
    "        result = 0\n",
    "        for i in range(len(operations)):\n",
    "            if operations[i] == 'X++' or operations[i] == '++X':\n",
    "                result += 1\n",
    "            elif operations[i] == 'X--' or operations[i] == '--X':\n",
    "                result -= 1\n",
    "        return result\n",
    "\n",
    "#operations = [\"--X\",\"X++\",\"X++\"]\n",
    "operations = [\"++X\",\"++X\",\"X++\"]\n",
    "finalValueAfterOperations(operations)"
   ]
  },
  {
   "cell_type": "code",
   "execution_count": 3,
   "id": "5dd3ab84",
   "metadata": {},
   "outputs": [
    {
     "name": "stdout",
     "output_type": "stream",
     "text": [
      "0\n",
      "2\n",
      "10\n",
      "0\n",
      "7\n",
      "8\n",
      "0\n",
      "1\n",
      "10\n"
     ]
    },
    {
     "data": {
      "text/plain": [
       "17"
      ]
     },
     "execution_count": 3,
     "metadata": {},
     "output_type": "execute_result"
    }
   ],
   "source": [
    "#07/06/2022 1672. Richest Customer Wealth\n",
    "def maximumWealth(accounts: list[list[int]]) -> int:\n",
    "    current_wealth = 0\n",
    "    max_wealth = 0\n",
    "    for i in range(len(accounts)):\n",
    "        current_wealth = 0\n",
    "        for j in range(len(accounts[i])):\n",
    "            current_wealth += accounts[i][j]\n",
    "        \n",
    "        if current_wealth > max_wealth:\n",
    "            max_wealth = current_wealth\n",
    "        \n",
    "    return max_wealth\n",
    "\n",
    "lst = [[2,8,7],[7,1,3],[1,9,5]]              \n",
    "maximumWealth(lst)"
   ]
  },
  {
   "cell_type": "code",
   "execution_count": 5,
   "id": "c63ceb89",
   "metadata": {},
   "outputs": [
    {
     "name": "stdout",
     "output_type": "stream",
     "text": [
      "address = 1[.]1[.]1[.]1\n"
     ]
    }
   ],
   "source": [
    "#08/06/1996 1108. Defanging an IP Address\n",
    "address = \"1.1.1.1\"\n",
    "address = address.replace('.','[.]')\n",
    "print(f\"address = {address}\")"
   ]
  },
  {
   "cell_type": "code",
   "execution_count": 4,
   "id": "e4bd00e0",
   "metadata": {},
   "outputs": [
    {
     "data": {
      "text/plain": [
       "{1, 2, 3, 4}"
      ]
     },
     "execution_count": 4,
     "metadata": {},
     "output_type": "execute_result"
    }
   ],
   "source": [
    "lst = [1,2,3,2]\n",
    "a = set(lst)\n",
    "tp = (1,2,3,4,3)\n",
    "b = set(tp)\n",
    "a\n",
    "b"
   ]
  },
  {
   "cell_type": "code",
   "execution_count": null,
   "id": "9469db3f",
   "metadata": {},
   "outputs": [],
   "source": []
  },
  {
   "cell_type": "code",
   "execution_count": 1,
   "id": "74e4d21b",
   "metadata": {},
   "outputs": [
    {
     "name": "stdout",
     "output_type": "stream",
     "text": [
      "len_sentence = 4\n",
      "len_sentence = 6\n",
      "max = 6\n"
     ]
    },
    {
     "data": {
      "text/plain": [
       "[['alice', 'and', 'bob', 'love', 'leetcode'],\n",
       " ['i', 'think', 'so', 'too'],\n",
       " ['this', 'is', 'great', 'thanks', 'very', 'much']]"
      ]
     },
     "execution_count": 1,
     "metadata": {},
     "output_type": "execute_result"
    }
   ],
   "source": [
    "#09/06/2022 2114. Maximum Number of Words Found in Sentences\n",
    "sentences = [\"alice and bob love leetcode\", \"i think so too\", \"this is great thanks very much\"]\n",
    "# split words\n",
    "sentences[0] = sentences[0].split(' ')\n",
    "max = len(sentences[0])\n",
    "for i in range(1,len(sentences)):\n",
    "  sentences[i] = sentences[i].split(' ')\n",
    "  len_sentence = len(sentences[i])\n",
    "  print(f\"len_sentence = {len_sentence}\")\n",
    "  if max < len_sentence:\n",
    "    max = len_sentence\n",
    "\n",
    "print(f\"max = {max}\")\n",
    "sentences"
   ]
  },
  {
   "cell_type": "code",
   "execution_count": 4,
   "id": "40c903f0",
   "metadata": {},
   "outputs": [
    {
     "name": "stdout",
     "output_type": "stream",
     "text": [
      "x = [2, 5, 1]\n",
      "y = [3, 4, 7]\n",
      "r = [2, 3, 5, 4, 1, 7]\n"
     ]
    },
    {
     "data": {
      "text/plain": [
       "[2, 3, 5, 4, 1, 7]"
      ]
     },
     "execution_count": 4,
     "metadata": {},
     "output_type": "execute_result"
    }
   ],
   "source": [
    "#14/06/2022 1470. Shuffle the Array\n",
    "def shuffle(nums: list, n: int) -> list:\n",
    "        x = nums[:n]\n",
    "        y = nums[n:]\n",
    "        print(f\"x = {x}\")\n",
    "        print(f\"y = {y}\")\n",
    "        r = []\n",
    "        i = 0\n",
    "        while i != n:\n",
    "            r.append(x[i])\n",
    "            r.append(y[i])\n",
    "            i += 1\n",
    "            \n",
    "        print(f\"r = {r}\")\n",
    "        return r\n",
    "\n",
    "nums = [2,5,1,3,4,7]\n",
    "n = 3\n",
    "shuffle(nums, n)"
   ]
  },
  {
   "cell_type": "code",
   "execution_count": 1,
   "id": "ea93f2a1",
   "metadata": {},
   "outputs": [
    {
     "name": "stdout",
     "output_type": "stream",
     "text": [
      "lst {(2, 239), (3, 229), (23, 29), (22, 39), (9, 223)}\n"
     ]
    },
    {
     "data": {
      "text/plain": [
       "52"
      ]
     },
     "execution_count": 1,
     "metadata": {},
     "output_type": "execute_result"
    }
   ],
   "source": [
    "#15/06/2022 2160. Minimum Sum of Four Digit Number After Splitting Digits\n",
    "def minimumSum(num: int) -> int:\n",
    "  min_sum = num\n",
    "  lst = set()\n",
    "  ns = []\n",
    "  #number list\n",
    "  for i in range(4):\n",
    "    ns.append(int(num % 10))\n",
    "    num = int(num / 10)\n",
    "\n",
    "  #inner 1\n",
    "  def inner_list_to_num(l_num):\n",
    "    r = 0\n",
    "    for i in range(len(l_num)):\n",
    "      r = r * 10 + l_num[i]\n",
    "    return r\n",
    "\n",
    "  #inner 2\n",
    "  def inner_find(tuple_n,l_tuple):\n",
    "    r_tuple = (tuple_n[1],tuple_n[0])\n",
    "    for s in l_tuple:\n",
    "      if tuple_n == s or r_tuple == s:\n",
    "        return True\n",
    "    return False\n",
    "\n",
    "  #sum\n",
    "  for i in range(4):\n",
    "    pin = ns[i]\n",
    "    num1 = pin\n",
    "    \n",
    "    if (i - 1) >= 0 and ns[i] in ns[:i - 1]:\n",
    "      continue\n",
    "    remain = ns.copy()\n",
    "    remain.remove(ns[i])\n",
    "    remain.sort()\n",
    "\n",
    "    #[(1,3)]\n",
    "    num2 = inner_list_to_num(remain)\n",
    "    if not inner_find((num1,num2),lst):\n",
    "      lst.add((num1,num2))\n",
    "      if min_sum > (num1 + num2):\n",
    "        min_sum = num1 + num2\n",
    "\n",
    "    #[(2,2)]\n",
    "    for j in range(len(remain)):\n",
    "      num1_l = [pin,remain[j]]\n",
    "      num1_l.sort()\n",
    "      num1 = inner_list_to_num(num1_l)\n",
    "      \n",
    "      remain2 = remain.copy()\n",
    "      remain2.remove(remain[j])\n",
    "      remain2.sort()\n",
    "      num2 = inner_list_to_num(remain2)\n",
    "      if not inner_find((num1,num2),lst):\n",
    "        lst.add((num1,num2))\n",
    "        if min_sum > (num1 + num2):\n",
    "          min_sum = num1 + num2\n",
    "  \n",
    "  print(f\"lst {lst}\")\n",
    "  return min_sum\n",
    "\n",
    "num = 2932\n",
    "minimumSum(num)"
   ]
  },
  {
   "cell_type": "code",
   "execution_count": 1,
   "id": "84d25eaf",
   "metadata": {},
   "outputs": [
    {
     "name": "stdout",
     "output_type": "stream",
     "text": [
      "count 4\n",
      "count 6\n",
      "count 0\n"
     ]
    },
    {
     "data": {
      "text/plain": [
       "0"
      ]
     },
     "execution_count": 1,
     "metadata": {},
     "output_type": "execute_result"
    }
   ],
   "source": [
    "#16/06/2022 1512. Number of Good Pairs\n",
    "def numIdenticalPairs(nums: list) -> int:\n",
    "  count = 0\n",
    "  i = 0\n",
    "  j = len(nums) - 1\n",
    "  while i != len(nums):\n",
    "    if i == j:\n",
    "      j = len(nums) - 1\n",
    "      i += 1\n",
    "    else:\n",
    "      if nums[i] == nums[j]:\n",
    "        count += 1\n",
    "      j -= 1\n",
    "  \n",
    "  print(f\"count {count}\")\n",
    "  return count\n",
    "\n",
    "nums = [1,2,3,1,1,3]\n",
    "numIdenticalPairs(nums)\n",
    "nums = [1,1,1,1]\n",
    "numIdenticalPairs(nums)\n",
    "nums = [1,2,3]\n",
    "numIdenticalPairs(nums)"
   ]
  },
  {
   "cell_type": "code",
   "execution_count": null,
   "id": "a1fb86d0",
   "metadata": {},
   "outputs": [],
   "source": [
    "#19/06/2022 771. Jewels and Stones"
   ]
  },
  {
   "cell_type": "code",
   "execution_count": null,
   "id": "591a7141",
   "metadata": {},
   "outputs": [],
   "source": [
    "#19/06/2022  1431. Kids With the Greatest Number of Candies"
   ]
  },
  {
   "cell_type": "code",
   "execution_count": null,
   "id": "2625f927",
   "metadata": {},
   "outputs": [],
   "source": [
    "#19/06/2022 1603. Design Parking System"
   ]
  },
  {
   "cell_type": "code",
   "execution_count": null,
   "id": "54108b62",
   "metadata": {},
   "outputs": [],
   "source": [
    "#19/06/2022 1379. Find a Corresponding Node of a Binary Tree in a Clone of That Tree"
   ]
  },
  {
   "cell_type": "code",
   "execution_count": null,
   "id": "ac2fb749",
   "metadata": {},
   "outputs": [],
   "source": []
  }
 ],
 "metadata": {
  "kernelspec": {
   "display_name": "Python 3 (ipykernel)",
   "language": "python",
   "name": "python3"
  },
  "language_info": {
   "codemirror_mode": {
    "name": "ipython",
    "version": 3
   },
   "file_extension": ".py",
   "mimetype": "text/x-python",
   "name": "python",
   "nbconvert_exporter": "python",
   "pygments_lexer": "ipython3",
   "version": "3.9.12"
  }
 },
 "nbformat": 4,
 "nbformat_minor": 5
}
