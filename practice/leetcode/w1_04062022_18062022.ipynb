{
 "cells": [
  {
   "cell_type": "code",
   "execution_count": 4,
   "id": "5654a230",
   "metadata": {},
   "outputs": [
    {
     "data": {
      "text/plain": [
       "[0, 1, 2, 4, 5, 3]"
      ]
     },
     "execution_count": 4,
     "metadata": {},
     "output_type": "execute_result"
    }
   ],
   "source": [
    "#04/06/2022 1920. Build Array from Permutation\n",
    "from typing import List\n",
    "def buildArray(nums: List[int]) -> List[int]:\n",
    "        ans = []\n",
    "        ans = [nums[nums[i]] for i in range(len(nums))]\n",
    "        return ans\n",
    "\n",
    "nums = [0,2,1,5,3,4]\n",
    "buildArray(nums)"
   ]
  },
  {
   "cell_type": "code",
   "execution_count": 12,
   "id": "3d868920",
   "metadata": {},
   "outputs": [
    {
     "data": {
      "text/plain": [
       "[1, 3, 2, 1, 1, 3, 2, 1]"
      ]
     },
     "execution_count": 12,
     "metadata": {},
     "output_type": "execute_result"
    }
   ],
   "source": [
    "#04/06/2022 1929. Concatenation of Array\n",
    "from typing import List\n",
    "def getConcatenation(nums: List[int]) -> List[int]:\n",
    "    ans = nums.copy()\n",
    "    n = len(nums)\n",
    "    for i in range(n,n + n):\n",
    "        ans.append(nums[i - n])\n",
    "    \n",
    "    return ans\n",
    "nums = [1,3,2,1]\n",
    "getConcatenation(nums)"
   ]
  },
  {
   "cell_type": "code",
   "execution_count": 16,
   "id": "c873a296",
   "metadata": {},
   "outputs": [
    {
     "data": {
      "text/plain": [
       "[1, 3, 6, 10]"
      ]
     },
     "execution_count": 16,
     "metadata": {},
     "output_type": "execute_result"
    }
   ],
   "source": [
    "#04/06/2022 \n",
    "def runningSum(nums: List[int]) -> List[int]:\n",
    "    ans = []\n",
    "    s = 0\n",
    "    for i in range(len(nums)):\n",
    "        s = s + nums[i]\n",
    "        ans.append(s)\n",
    "    \n",
    "    return ans\n",
    "    \n",
    "nums = [1,2,3,4]\n",
    "runningSum(nums)"
   ]
  },
  {
   "cell_type": "code",
   "execution_count": 2,
   "id": "b1a91fbe",
   "metadata": {},
   "outputs": [
    {
     "ename": "NameError",
     "evalue": "name 'Optional' is not defined",
     "output_type": "error",
     "traceback": [
      "\u001b[1;31m---------------------------------------------------------------------------\u001b[0m",
      "\u001b[1;31mNameError\u001b[0m                                 Traceback (most recent call last)",
      "Input \u001b[1;32mIn [2]\u001b[0m, in \u001b[0;36m<cell line: 2>\u001b[1;34m()\u001b[0m\n\u001b[0;32m      1\u001b[0m \u001b[38;5;66;03m#05/06/2022 2236. Root Equals Sum of Children\u001b[39;00m\n\u001b[1;32m----> 2\u001b[0m \u001b[38;5;28;01mdef\u001b[39;00m \u001b[38;5;21mcheckTree\u001b[39m(root: \u001b[43mOptional\u001b[49m[TreeNode]) \u001b[38;5;241m-\u001b[39m\u001b[38;5;241m>\u001b[39m \u001b[38;5;28mbool\u001b[39m:\n\u001b[0;32m      3\u001b[0m     \u001b[38;5;28;01mif\u001b[39;00m root\u001b[38;5;241m.\u001b[39mleft\u001b[38;5;241m.\u001b[39mval \u001b[38;5;241m+\u001b[39m root\u001b[38;5;241m.\u001b[39mright\u001b[38;5;241m.\u001b[39mval \u001b[38;5;241m==\u001b[39m root\u001b[38;5;241m.\u001b[39mval:\n\u001b[0;32m      4\u001b[0m         \u001b[38;5;28;01mreturn\u001b[39;00m \u001b[38;5;28;01mTrue\u001b[39;00m\n",
      "\u001b[1;31mNameError\u001b[0m: name 'Optional' is not defined"
     ]
    }
   ],
   "source": [
    "#05/06/2022 2236. Root Equals Sum of Children\n",
    "def checkTree(root: Optional[TreeNode]) -> bool:\n",
    "    if root.left.val + root.right.val == root.val:\n",
    "        return True\n",
    "    else:\n",
    "        return False"
   ]
  },
  {
   "cell_type": "code",
   "execution_count": 3,
   "id": "7afae881",
   "metadata": {},
   "outputs": [
    {
     "data": {
      "text/plain": [
       "3"
      ]
     },
     "execution_count": 3,
     "metadata": {},
     "output_type": "execute_result"
    }
   ],
   "source": [
    "#06/06/2022 2011. Final Value of Variable After Performing Operations\n",
    "def finalValueAfterOperations(operations: list) -> int:\n",
    "        result = 0\n",
    "        for i in range(len(operations)):\n",
    "            if operations[i] == 'X++' or operations[i] == '++X':\n",
    "                result += 1\n",
    "            elif operations[i] == 'X--' or operations[i] == '--X':\n",
    "                result -= 1\n",
    "        return result\n",
    "\n",
    "#operations = [\"--X\",\"X++\",\"X++\"]\n",
    "operations = [\"++X\",\"++X\",\"X++\"]\n",
    "finalValueAfterOperations(operations)"
   ]
  },
  {
   "cell_type": "code",
   "execution_count": null,
   "id": "5dd3ab84",
   "metadata": {},
   "outputs": [],
   "source": []
  }
 ],
 "metadata": {
  "kernelspec": {
   "display_name": "Python 3 (ipykernel)",
   "language": "python",
   "name": "python3"
  },
  "language_info": {
   "codemirror_mode": {
    "name": "ipython",
    "version": 3
   },
   "file_extension": ".py",
   "mimetype": "text/x-python",
   "name": "python",
   "nbconvert_exporter": "python",
   "pygments_lexer": "ipython3",
   "version": "3.9.12"
  }
 },
 "nbformat": 4,
 "nbformat_minor": 5
}
