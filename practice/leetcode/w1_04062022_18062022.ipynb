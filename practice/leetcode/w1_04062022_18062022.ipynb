{
 "cells": [
  {
   "cell_type": "code",
   "execution_count": 4,
   "id": "5654a230",
   "metadata": {},
   "outputs": [
    {
     "data": {
      "text/plain": [
       "[0, 1, 2, 4, 5, 3]"
      ]
     },
     "execution_count": 4,
     "metadata": {},
     "output_type": "execute_result"
    }
   ],
   "source": [
    "#04/06/2022 1920. Build Array from Permutation\n",
    "from typing import List\n",
    "def buildArray(nums: List[int]) -> List[int]:\n",
    "        ans = []\n",
    "        ans = [nums[nums[i]] for i in range(len(nums))]\n",
    "        return ans\n",
    "\n",
    "nums = [0,2,1,5,3,4]\n",
    "buildArray(nums)"
   ]
  },
  {
   "cell_type": "code",
   "execution_count": 12,
   "id": "3d868920",
   "metadata": {},
   "outputs": [
    {
     "data": {
      "text/plain": [
       "[1, 3, 2, 1, 1, 3, 2, 1]"
      ]
     },
     "execution_count": 12,
     "metadata": {},
     "output_type": "execute_result"
    }
   ],
   "source": [
    "#04/06/2022 1929. Concatenation of Array\n",
    "from typing import List\n",
    "def getConcatenation(nums: List[int]) -> List[int]:\n",
    "    ans = nums.copy()\n",
    "    n = len(nums)\n",
    "    for i in range(n,n + n):\n",
    "        ans.append(nums[i - n])\n",
    "    \n",
    "    return ans\n",
    "nums = [1,3,2,1]\n",
    "getConcatenation(nums)"
   ]
  },
  {
   "cell_type": "code",
   "execution_count": 16,
   "id": "c873a296",
   "metadata": {},
   "outputs": [
    {
     "data": {
      "text/plain": [
       "[1, 3, 6, 10]"
      ]
     },
     "execution_count": 16,
     "metadata": {},
     "output_type": "execute_result"
    }
   ],
   "source": [
    "#04/06/2022 \n",
    "def runningSum(nums: List[int]) -> List[int]:\n",
    "    ans = []\n",
    "    s = 0\n",
    "    for i in range(len(nums)):\n",
    "        s = s + nums[i]\n",
    "        ans.append(s)\n",
    "    \n",
    "    return ans\n",
    "    \n",
    "nums = [1,2,3,4]\n",
    "runningSum(nums)"
   ]
  },
  {
   "cell_type": "code",
   "execution_count": null,
   "id": "b1a91fbe",
   "metadata": {},
   "outputs": [],
   "source": []
  },
  {
   "cell_type": "code",
   "execution_count": null,
   "id": "7afae881",
   "metadata": {},
   "outputs": [],
   "source": []
  }
 ],
 "metadata": {
  "kernelspec": {
   "display_name": "Python 3 (ipykernel)",
   "language": "python",
   "name": "python3"
  },
  "language_info": {
   "codemirror_mode": {
    "name": "ipython",
    "version": 3
   },
   "file_extension": ".py",
   "mimetype": "text/x-python",
   "name": "python",
   "nbconvert_exporter": "python",
   "pygments_lexer": "ipython3",
   "version": "3.9.12"
  }
 },
 "nbformat": 4,
 "nbformat_minor": 5
}
