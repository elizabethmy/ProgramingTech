{
 "cells": [
  {
   "cell_type": "code",
   "execution_count": 32,
   "id": "1b219ab1",
   "metadata": {},
   "outputs": [
    {
     "name": "stdout",
     "output_type": "stream",
     "text": [
      "pi = 3.1414344\n"
     ]
    }
   ],
   "source": [
    "'''\n",
    "PI estimation\n",
    "'''\n",
    "import math\n",
    "import random\n",
    "\n",
    "def PIEstimation():\n",
    "    '''\n",
    "    Pi estimation\n",
    "    '''\n",
    "    #Square\n",
    "    N = 10000000\n",
    "    #Circle\n",
    "    Nc = 0\n",
    "    #Find Nc\n",
    "    for i in range(N):\n",
    "        #random number [-1,1]\n",
    "        x = random.random() * 2 - 1\n",
    "        y = random.random() * 2 - 1\n",
    "        x2 = x ** 2\n",
    "        y2 = y ** 2\n",
    "        #check if this point is in circle\n",
    "        if math.sqrt(x2 + y2) < 1.0:\n",
    "            Nc = Nc + 1;\n",
    "    s2 = 2 * 2\n",
    "    pi = (Nc / N) * 4\n",
    "    return pi\n",
    "        \n",
    "print(f\"pi = {PIEstimation()}\")"
   ]
  },
  {
   "cell_type": "code",
   "execution_count": 18,
   "id": "5926a6d7",
   "metadata": {},
   "outputs": [
    {
     "name": "stdout",
     "output_type": "stream",
     "text": [
      "Euler Number = 2.7182818284590455\n"
     ]
    }
   ],
   "source": [
    "#Euler's number\n",
    "def Factorial(n):\n",
    "    '''\n",
    "    Find the factorial of n\n",
    "    ''' \n",
    "    if n <= 0:\n",
    "        return 0\n",
    "    \n",
    "    result = 1\n",
    "    for i in range(1,n + 1):\n",
    "        result *= i\n",
    "    return result\n",
    "\n",
    "def EuluerNumberEstimation():\n",
    "    '''\n",
    "    Euler number estimation\n",
    "    '''\n",
    "    N = 1000\n",
    "    eulerNumber = 1\n",
    "    for i in range(1, N + 1):\n",
    "        eulerNumber += 1 / Factorial(i)\n",
    "    return eulerNumber\n",
    "\n",
    "print(f\"Euler Number = {EuluerNumberEstimation()}\")"
   ]
  },
  {
   "cell_type": "code",
   "execution_count": 36,
   "id": "7f3c2a49",
   "metadata": {},
   "outputs": [
    {
     "name": "stdout",
     "output_type": "stream",
     "text": [
      "Quadractic of Number 225  = 15.0\n"
     ]
    }
   ],
   "source": [
    "#Quadractic Root\n",
    "def QuadracticRoot(N):\n",
    "    '''\n",
    "    Find quadratic of number N\n",
    "    '''\n",
    "    x0 = N/2\n",
    "    sample = 1000\n",
    "    for i in range(sample):\n",
    "        x1 = 0.5 * (x0 + N / x0)\n",
    "        x0 = x1\n",
    "    return x1\n",
    "\n",
    "number = 225\n",
    "print(f\"Quadractic of Number {number}  = {QuadracticRoot(number)}\")"
   ]
  },
  {
   "cell_type": "code",
   "execution_count": 38,
   "id": "c5b99df4",
   "metadata": {},
   "outputs": [
    {
     "name": "stdout",
     "output_type": "stream",
     "text": [
      "The quadractic has solution: x1 = -1.0 \n",
      "The quadractic has solution: x2 = 1.5 \n"
     ]
    }
   ],
   "source": [
    "#Quadractic Equation\n",
    "def FindQuadracticEquation(a,b,c):\n",
    "    '''\n",
    "    Find root of quadractic:\n",
    "    a, b, c ~ ax^2 + bx + c = 0\n",
    "    '''\n",
    "    if a == 0:\n",
    "        if b == 0:\n",
    "            print(\"The quadractic has no solution! \")\n",
    "        elif c == 0:\n",
    "            print(\"The equation has infinitely many solutions! \")\n",
    "        else:\n",
    "            x1 = -c / b\n",
    "    \n",
    "    delta = b * b - 4 * a * c\n",
    "    \n",
    "    if delta < 0:\n",
    "        print(\"The quadractic has no solution! \")\n",
    "    elif delta == 0:\n",
    "        x1  = -b / (2 * a * c)\n",
    "        print(f\"The quadractic has solution: x = {x1} \")\n",
    "    else:\n",
    "        delta = math.sqrt(delta)\n",
    "        x1  = (-b - delta) / (2 * a)\n",
    "        x2  = (-b + delta) / (2 * a)\n",
    "        print(f\"The quadractic has solution: x1 = {x1} \")\n",
    "        print(f\"The quadractic has solution: x2 = {x2} \")\n",
    "        \n",
    "FindQuadracticEquation(4,-2,-6) "
   ]
  },
  {
   "cell_type": "code",
   "execution_count": null,
   "id": "8f89597e",
   "metadata": {},
   "outputs": [],
   "source": []
  }
 ],
 "metadata": {
  "kernelspec": {
   "display_name": "Python 3 (ipykernel)",
   "language": "python",
   "name": "python3"
  },
  "language_info": {
   "codemirror_mode": {
    "name": "ipython",
    "version": 3
   },
   "file_extension": ".py",
   "mimetype": "text/x-python",
   "name": "python",
   "nbconvert_exporter": "python",
   "pygments_lexer": "ipython3",
   "version": "3.9.7"
  }
 },
 "nbformat": 4,
 "nbformat_minor": 5
}
