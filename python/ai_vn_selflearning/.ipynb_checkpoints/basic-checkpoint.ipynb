{
 "cells": [
  {
   "cell_type": "code",
   "execution_count": null,
   "id": "1b219ab1",
   "metadata": {},
   "outputs": [],
   "source": [
    "'''\n",
    "PI estimation\n",
    "'''\n",
    "import math\n",
    "import random\n",
    "\n",
    "#Square\n",
    "N = 10000\n",
    "\n",
    "#Circle\n",
    "Nc = 0\n",
    "\n",
    "#Find Nc\n",
    "for i in range(N):\n",
    "    x = random.random() * 2 - 1;\n",
    "    y = random.random() * 2 - 1;"
   ]
  }
 ],
 "metadata": {
  "kernelspec": {
   "display_name": "Python 3 (ipykernel)",
   "language": "python",
   "name": "python3"
  },
  "language_info": {
   "codemirror_mode": {
    "name": "ipython",
    "version": 3
   },
   "file_extension": ".py",
   "mimetype": "text/x-python",
   "name": "python",
   "nbconvert_exporter": "python",
   "pygments_lexer": "ipython3",
   "version": "3.9.7"
  }
 },
 "nbformat": 4,
 "nbformat_minor": 5
}
