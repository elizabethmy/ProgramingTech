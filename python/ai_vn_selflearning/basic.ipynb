{
 "cells": [
  {
   "cell_type": "code",
   "execution_count": 7,
   "id": "1b219ab1",
   "metadata": {},
   "outputs": [
    {
     "name": "stdout",
     "output_type": "stream",
     "text": [
      "pi = 3.141712\n"
     ]
    }
   ],
   "source": [
    "'''\n",
    "PI estimation\n",
    "'''\n",
    "import math\n",
    "import random\n",
    "\n",
    "#Square\n",
    "N = 1000000\n",
    "\n",
    "#Circle\n",
    "Nc = 0\n",
    "\n",
    "#Find Nc\n",
    "for i in range(N):\n",
    "    #random number [-1,1]\n",
    "    x = random.random() * 2 - 1\n",
    "    y = random.random() * 2 - 1\n",
    "    \n",
    "    x2 = x ** 2\n",
    "    y2 = y ** 2\n",
    "    \n",
    "    #check if this point is in circle\n",
    "    if math.sqrt(x2 + y2) < 1.0:\n",
    "        Nc = Nc + 1;\n",
    "\n",
    "s2 = 2 * 2\n",
    "pi = (Nc / N) * 4\n",
    "print(f\"pi = {pi}\")"
   ]
  },
  {
   "cell_type": "code",
   "execution_count": null,
   "id": "5926a6d7",
   "metadata": {},
   "outputs": [],
   "source": []
  }
 ],
 "metadata": {
  "kernelspec": {
   "display_name": "Python 3 (ipykernel)",
   "language": "python",
   "name": "python3"
  },
  "language_info": {
   "codemirror_mode": {
    "name": "ipython",
    "version": 3
   },
   "file_extension": ".py",
   "mimetype": "text/x-python",
   "name": "python",
   "nbconvert_exporter": "python",
   "pygments_lexer": "ipython3",
   "version": "3.9.7"
  }
 },
 "nbformat": 4,
 "nbformat_minor": 5
}
