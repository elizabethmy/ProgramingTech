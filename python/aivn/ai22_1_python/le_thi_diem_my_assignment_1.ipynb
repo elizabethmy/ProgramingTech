{
 "cells": [
  {
   "cell_type": "markdown",
   "id": "f8ec22aa",
   "metadata": {},
   "source": [
    "### 1. Volumetric"
   ]
  },
  {
   "cell_type": "code",
   "execution_count": 32,
   "id": "0317469b",
   "metadata": {},
   "outputs": [],
   "source": [
    "import math"
   ]
  },
  {
   "cell_type": "markdown",
   "id": "7d649a68",
   "metadata": {},
   "source": [
    "- Cube"
   ]
  },
  {
   "cell_type": "code",
   "execution_count": 16,
   "id": "4b2f2028",
   "metadata": {},
   "outputs": [],
   "source": [
    "def CalculateCubeVolume(s):\n",
    "    '''\n",
    "    Calculate Cube Volume\n",
    "    s: length of side\n",
    "    \n",
    "    '''\n",
    "    return s**3"
   ]
  },
  {
   "cell_type": "markdown",
   "id": "685c106f",
   "metadata": {},
   "source": [
    "- Rectangular"
   ]
  },
  {
   "cell_type": "code",
   "execution_count": 17,
   "id": "10037f39",
   "metadata": {},
   "outputs": [],
   "source": [
    "# l: long, w: wide, h: hight\n",
    "def CalculateRectangularVolume(l, w, h):\n",
    "    '''\n",
    "    Calculate Rectangular Volume\n",
    "    l: long, w: wide, h: hight\n",
    "    '''\n",
    "    return l*w*h"
   ]
  },
  {
   "cell_type": "markdown",
   "id": "1795db3e",
   "metadata": {},
   "source": [
    "- Cylindrical round"
   ]
  },
  {
   "cell_type": "code",
   "execution_count": 26,
   "id": "cfa4548d",
   "metadata": {},
   "outputs": [],
   "source": [
    "# r: base radius, h: height\n",
    "def CalculateCylindricalRoundVolume(r, h):\n",
    "    '''\n",
    "    Calculate Cylindrical Round Volume\n",
    "    r: base radius, h: height\n",
    "    '''\n",
    "    return math.pi*r*r*h "
   ]
  },
  {
   "cell_type": "markdown",
   "id": "631bd5ca",
   "metadata": {},
   "source": [
    "- Sphere"
   ]
  },
  {
   "cell_type": "code",
   "execution_count": 31,
   "id": "f2b3e256",
   "metadata": {},
   "outputs": [],
   "source": [
    "# r: radius\n",
    "def CalculateSphereVolume(r):\n",
    "    '''\n",
    "    Calculate Sphere Volume\n",
    "    r: radius\n",
    "    '''\n",
    "    return (4/3)*math.pi*(r**3)"
   ]
  },
  {
   "cell_type": "markdown",
   "id": "98d309aa",
   "metadata": {},
   "source": [
    "- Testing"
   ]
  },
  {
   "cell_type": "code",
   "execution_count": 33,
   "id": "0e343dec",
   "metadata": {},
   "outputs": [
    {
     "name": "stdout",
     "output_type": "stream",
     "text": [
      "Volume of cube having length of side s = 2 is 8\n",
      "Volume of rectangular having long l = 3, wide w = 5, hight h = 6 is 90\n",
      "Volume of sphere having radius r = 2.56 is 70.27623804438552\n"
     ]
    }
   ],
   "source": [
    "# Cube\n",
    "s = 2\n",
    "cubeVolume = CalculateCubeVolume(s)\n",
    "print(f\"Volume of cube having length of side s = {s} is {cubeVolume}\")\n",
    "\n",
    "# Rectangular\n",
    "l = 3\n",
    "w = 5\n",
    "h = 6\n",
    "\n",
    "rectangularVolume = CalculateRectangularVolume(l,w,h)\n",
    "print(f\"Volume of rectangular having long l = {l}, wide w = {w}, hight h = {h} is {rectangularVolume}\")\n",
    "\n",
    "# Sphere\n",
    "r = 2.56\n",
    "sphereVolume = CalculateSphereVolume(r)\n",
    "print(f\"Volume of sphere having radius r = {r} is {sphereVolume}\")"
   ]
  },
  {
   "cell_type": "markdown",
   "id": "f719e896",
   "metadata": {},
   "source": [
    "### 2. Evaluate classification model by F1-score"
   ]
  },
  {
   "cell_type": "markdown",
   "id": "0dcd4de1",
   "metadata": {},
   "source": [
    "### 3. Simulated 3 activation functions"
   ]
  },
  {
   "cell_type": "markdown",
   "id": "84a8cd7a",
   "metadata": {},
   "source": [
    "### 4. Regression loss function"
   ]
  },
  {
   "cell_type": "markdown",
   "id": "d546e1f9",
   "metadata": {},
   "source": [
    "### 5. Pascal’s Triangle and Fibonacci Sequence"
   ]
  },
  {
   "cell_type": "markdown",
   "id": "2715211e",
   "metadata": {},
   "source": [
    "### 6. Estimation of numerical functions"
   ]
  },
  {
   "cell_type": "markdown",
   "id": "253a8e8d",
   "metadata": {},
   "source": [
    "### 7. The equation reverses the order of position among n"
   ]
  }
 ],
 "metadata": {
  "kernelspec": {
   "display_name": "Python 3 (ipykernel)",
   "language": "python",
   "name": "python3"
  },
  "language_info": {
   "codemirror_mode": {
    "name": "ipython",
    "version": 3
   },
   "file_extension": ".py",
   "mimetype": "text/x-python",
   "name": "python",
   "nbconvert_exporter": "python",
   "pygments_lexer": "ipython3",
   "version": "3.9.12"
  }
 },
 "nbformat": 4,
 "nbformat_minor": 5
}
